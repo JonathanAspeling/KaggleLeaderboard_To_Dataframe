{
 "cells": [
  {
   "cell_type": "markdown",
   "metadata": {},
   "source": [
    "<H1> Quick EDSA Leaderboard get from Kaggle </H1>"
   ]
  },
  {
   "cell_type": "markdown",
   "metadata": {},
   "source": [
    "<h3 style=\"color:Green\">Pre  Script   Procedures - Getting   your   API   key </h3>"
   ]
  },
  {
   "cell_type": "code",
   "execution_count": 31,
   "metadata": {},
   "outputs": [
    {
     "data": {
      "text/plain": [
       "'!pip install Kaggle'"
      ]
     },
     "execution_count": 31,
     "metadata": {},
     "output_type": "execute_result"
    }
   ],
   "source": [
    "#If you haven't installed the Kaggle Package run this code:(Can uncomment code to run in Notebook)\n",
    "'''!pip install Kaggle'''\n",
    "\n",
    "#Once installed - get your Kaggle API key here https://www.kaggle.com/**YOUR USERNAME HERE*/account\n",
    "#The JSON file needs to be saved in, assuming windows, C:/Users/**YOUR USER**/.kaggle\n",
    "#Kaggle api checks the environment variable here.\n",
    "#See Screenshot below"
   ]
  },
  {
   "attachments": {},
   "cell_type": "markdown",
   "metadata": {},
   "source": [
    "![](https://raw.githubusercontent.com/faulty-it/KaggleLeaderboard_To_Dataframe/master/Reference%20Screenshots/Github%20Screenshot.JPG)"
   ]
  },
  {
   "cell_type": "markdown",
   "metadata": {},
   "source": [
    "<h4 style=\"color:Red\">NB to ensure API Key instructions have been followed first.  </h4>"
   ]
  },
  {
   "cell_type": "markdown",
   "metadata": {},
   "source": [
    "<h3 style=\"color:Green\">Packages needed</h3>"
   ]
  },
  {
   "cell_type": "code",
   "execution_count": 27,
   "metadata": {},
   "outputs": [],
   "source": [
    "import kaggle as kg\n",
    "import zipfile\n",
    "import pandas as pd\n",
    "import os"
   ]
  },
  {
   "cell_type": "markdown",
   "metadata": {},
   "source": [
    "<h3 style=\"color:Green\">Funtion Defining</h3>"
   ]
  },
  {
   "cell_type": "code",
   "execution_count": 33,
   "metadata": {},
   "outputs": [],
   "source": [
    "def comp_edsa_leaderboard(competition_name):\n",
    "    '''\n",
    "    Function Creates Dataframe containing specified competitions leaderboard as at the time of execution.\n",
    "    \n",
    "    NB - set Function to object: Object_001 = comp_edsa_leaderboard(competition_name)\n",
    "    \n",
    "    Competition Name = Kaggle Denominated name \n",
    "    \n",
    "    Best place to obtain is in URL\n",
    "    E.g - https://www.kaggle.com/c/house-prices-advanced-regression-techniques/data\n",
    "    **house-prices-advanced-regression-techniques**\n",
    "    \n",
    "    '''\n",
    "\n",
    "    #Authentication with Kaggle API\n",
    "    kg.api.authenticate()\n",
    "    \n",
    "    #Api request leaderboard file - Saves Zip File in local directory\n",
    "    kg.api.competition_leaderboard_download(competition=competition_name,path=r'./')\n",
    "    \n",
    "    #Opens Zip File \n",
    "    zf = zipfile.ZipFile(r'./'+str(competition_name)+'.zip')\n",
    "    \n",
    "    #Grabs CSV from zip file and loads into Dataframe\n",
    "    df_comp_leaderboard = pd.read_csv(zf.open(str(competition_name)+'-publicleaderboard.csv'))\n",
    "    \n",
    "    #Deletes zf object so as to allow delete of zip file in local direcotry, deletes zip file.\n",
    "    del zf\n",
    "    os.remove(str(competition_name)+'.zip')\n",
    "    \n",
    "    return df_comp_leaderboard"
   ]
  },
  {
   "cell_type": "markdown",
   "metadata": {},
   "source": [
    "<h3 style=\"color:Green\">Play Ground</h3>"
   ]
  },
  {
   "cell_type": "code",
   "execution_count": 37,
   "metadata": {},
   "outputs": [],
   "source": [
    "#Calling the function\n",
    "df_comp_leaderboard = comp_edsa_leaderboard('house-prices-advanced-regression-techniques')"
   ]
  },
  {
   "cell_type": "code",
   "execution_count": 39,
   "metadata": {},
   "outputs": [
    {
     "data": {
      "text/html": [
       "<div>\n",
       "<style scoped>\n",
       "    .dataframe tbody tr th:only-of-type {\n",
       "        vertical-align: middle;\n",
       "    }\n",
       "\n",
       "    .dataframe tbody tr th {\n",
       "        vertical-align: top;\n",
       "    }\n",
       "\n",
       "    .dataframe thead th {\n",
       "        text-align: right;\n",
       "    }\n",
       "</style>\n",
       "<table border=\"1\" class=\"dataframe\">\n",
       "  <thead>\n",
       "    <tr style=\"text-align: right;\">\n",
       "      <th></th>\n",
       "      <th>TeamName</th>\n",
       "      <th>SubmissionDate</th>\n",
       "      <th>Score</th>\n",
       "    </tr>\n",
       "    <tr>\n",
       "      <th>TeamId</th>\n",
       "      <th></th>\n",
       "      <th></th>\n",
       "      <th></th>\n",
       "    </tr>\n",
       "  </thead>\n",
       "  <tbody>\n",
       "    <tr>\n",
       "      <th>3157554</th>\n",
       "      <td>EDSA_Team15_2019</td>\n",
       "      <td>2019-05-14 13:05:56</td>\n",
       "      <td>0.12847</td>\n",
       "    </tr>\n",
       "    <tr>\n",
       "      <th>3132731</th>\n",
       "      <td>EDSA team 21</td>\n",
       "      <td>2019-05-10 12:01:13</td>\n",
       "      <td>0.13774</td>\n",
       "    </tr>\n",
       "    <tr>\n",
       "      <th>3132346</th>\n",
       "      <td>EDSA_CPT_Regression_team_10</td>\n",
       "      <td>2019-05-13 15:25:35</td>\n",
       "      <td>0.22610</td>\n",
       "    </tr>\n",
       "    <tr>\n",
       "      <th>3155428</th>\n",
       "      <td>EDSA_Team02_CPT</td>\n",
       "      <td>2019-05-16 16:29:44</td>\n",
       "      <td>0.52735</td>\n",
       "    </tr>\n",
       "  </tbody>\n",
       "</table>\n",
       "</div>"
      ],
      "text/plain": [
       "                            TeamName       SubmissionDate    Score\n",
       "TeamId                                                            \n",
       "3157554             EDSA_Team15_2019  2019-05-14 13:05:56  0.12847\n",
       "3132731                 EDSA team 21  2019-05-10 12:01:13  0.13774\n",
       "3132346  EDSA_CPT_Regression_team_10  2019-05-13 15:25:35  0.22610\n",
       "3155428              EDSA_Team02_CPT  2019-05-16 16:29:44  0.52735"
      ]
     },
     "execution_count": 39,
     "metadata": {},
     "output_type": "execute_result"
    }
   ],
   "source": [
    "#Filters the Dataframe to show only EDSA teams &&& only the team's lowest score.\n",
    "df_comp_leaderboard[df_comp_leaderboard['TeamName'].str.contains('EDSA')].groupby('TeamId').min().sort_values('Score')"
   ]
  }
 ],
 "metadata": {
  "kernelspec": {
   "display_name": "Python 3",
   "language": "python",
   "name": "python3"
  },
  "language_info": {
   "codemirror_mode": {
    "name": "ipython",
    "version": 3
   },
   "file_extension": ".py",
   "mimetype": "text/x-python",
   "name": "python",
   "nbconvert_exporter": "python",
   "pygments_lexer": "ipython3",
   "version": "3.6.8"
  }
 },
 "nbformat": 4,
 "nbformat_minor": 2
}
